{
 "cells": [
  {
   "cell_type": "markdown",
   "id": "5214a3b1-8a51-44d3-871c-0e6dcc47eb28",
   "metadata": {},
   "source": [
    "# Intro to Biologging data \n",
    "- make sure to install https://github.com/IAOCEA/pangeo-fish before running this example"
   ]
  },
  {
   "cell_type": "code",
   "execution_count": null,
   "id": "848c95c8-2a92-4a7c-a363-ea08af1aaa81",
   "metadata": {},
   "outputs": [],
   "source": [
    "from pangeo_fish.io import open_tag\n",
    "from pangeo_fish.tags import to_time_slice"
   ]
  },
  {
   "cell_type": "code",
   "execution_count": null,
   "id": "e10b6343-7e20-4790-a3f7-882a96168249",
   "metadata": {},
   "outputs": [],
   "source": [
    "# tag_name corresponds to the name of the biologging tag name (DST identification number),\n",
    "# which is also a path for storing all the information for the specific fish tagged with tag_name.\n",
    "tag_name = \"A19124\"\n",
    "\n",
    "# tag_root specifies the root URL for tag data used for this computation.\n",
    "tag_root = \"https://data-taos.ifremer.fr/data_tmp/cleaned/tag/\"\n",
    "\n",
    "target_root = \"./{tag_name}\""
   ]
  },
  {
   "cell_type": "markdown",
   "id": "df931f0d-8495-4f0a-be89-4a4857a63fe8",
   "metadata": {},
   "source": [
    "## Reading tag data\n",
    "- If the cell below fails you may not have read access to the corresponding tag data; create a [GitHub issue](https://github.com/destination-earth/DestinE_ESA_GFTS)."
   ]
  },
  {
   "cell_type": "code",
   "execution_count": null,
   "id": "15d5c6b5-4cb1-4489-9ccd-f39e05f92d33",
   "metadata": {},
   "outputs": [],
   "source": [
    "# Open and retrieve the tag data required for the analysis\n",
    "tag = open_tag(tag_root, tag_name)\n",
    "tag"
   ]
  },
  {
   "cell_type": "code",
   "execution_count": null,
   "id": "39cf0f27-5185-42a6-beb2-c250616e7622",
   "metadata": {},
   "outputs": [],
   "source": [
    "import hvplot.xarray  # noqa\n",
    "from pangeo_fish.io import save_html_hvplot\n",
    "\n",
    "# Drop tag data outside the tagged events interval\n",
    "time_slice = to_time_slice(tag[\"tagging_events/time\"])\n",
    "tag_log = tag[\"dst\"].ds.sel(time=time_slice)\n",
    "\n",
    "plot = (\n",
    "    (-tag[\"dst\"].pressure).hvplot(width=1000, height=500, color=\"blue\")\n",
    "    * (-tag_log).hvplot.scatter(\n",
    "        x=\"time\", y=\"pressure\", color=\"red\", size=5, width=1000, height=500\n",
    "    )\n",
    "    * (\n",
    "        (tag[\"dst\"].temperature).hvplot(width=1000, height=500, color=\"blue\")\n",
    "        * (tag_log).hvplot.scatter(\n",
    "            x=\"time\", y=\"temperature\", color=\"red\", size=5, width=1000, height=500\n",
    "        )\n",
    "    )\n",
    ")\n",
    "filepath = f\"{target_root}/tags.html\"\n",
    "\n",
    "save_html_hvplot(plot, filepath)\n",
    "\n",
    "plot"
   ]
  },
  {
   "cell_type": "markdown",
   "id": "bd256171-f62c-46ff-93f2-e6fca88b8daa",
   "metadata": {},
   "source": [
    "## Write results into the IFREMER bucket\n",
    "- If it fails and you believe you should have write access to the IFREMER S3 bucket, please write a [GitHub issue](https://github.com/destination-earth/DestinE_ESA_GFTS)."
   ]
  },
  {
   "cell_type": "code",
   "execution_count": null,
   "id": "da717318-a27b-432c-8029-d12c442cdbda",
   "metadata": {},
   "outputs": [],
   "source": [
    "scratch_root = \"s3://destine-gfts-data-lake/demo\"\n",
    "\n",
    "# Define target root directories for storing analysis results.\n",
    "target_root = f\"{scratch_root}/{tag_name}\"\n",
    "\n",
    "# storage_options specifies options for the filesystem storing output files.\n",
    "storage_options = {\n",
    "    \"anon\": False,\n",
    "    \"profile\": \"gfts\",\n",
    "    \"client_kwargs\": {\n",
    "        \"endpoint_url\": \"https://s3.gra.perf.cloud.ovh.net\",\n",
    "        \"region_name\": \"gra\",\n",
    "    },\n",
    "}"
   ]
  },
  {
   "cell_type": "code",
   "execution_count": null,
   "id": "44682cfe-08f2-4c40-b569-a9c64f750c79",
   "metadata": {},
   "outputs": [],
   "source": [
    "filepath = f\"{target_root}/tags.html\""
   ]
  },
  {
   "cell_type": "code",
   "execution_count": null,
   "id": "43a68ba2-06bf-4048-8275-07edfdf0c1a7",
   "metadata": {},
   "outputs": [],
   "source": [
    "save_html_hvplot(plot, filepath, storage_options)"
   ]
  },
  {
   "cell_type": "markdown",
   "id": "c75e2832-a601-4068-a137-50b1256ea0f8",
   "metadata": {},
   "source": [
    "## Check the remote file"
   ]
  },
  {
   "cell_type": "code",
   "execution_count": null,
   "id": "61fc5dc1-a8a8-44b2-a525-3283ee3dce5d",
   "metadata": {},
   "outputs": [],
   "source": [
    "import s3fs"
   ]
  },
  {
   "cell_type": "code",
   "execution_count": null,
   "id": "93f883e5-9fc5-4870-9d53-c77c1f383f6a",
   "metadata": {},
   "outputs": [],
   "source": [
    "s3 = s3fs.S3FileSystem(**storage_options)"
   ]
  },
  {
   "cell_type": "code",
   "execution_count": null,
   "id": "77ffc7dd-42ac-433a-b6fd-7f2d8af84cac",
   "metadata": {},
   "outputs": [],
   "source": [
    "s3.ls(filepath)"
   ]
  },
  {
   "cell_type": "code",
   "execution_count": null,
   "id": "87049cd9-c526-462f-af13-3d1e5357997d",
   "metadata": {},
   "outputs": [],
   "source": []
  }
 ],
 "metadata": {
  "kernelspec": {
   "display_name": "Python 3 (ipykernel)",
   "language": "python",
   "name": "python3"
  },
  "language_info": {
   "codemirror_mode": {
    "name": "ipython",
    "version": 3
   },
   "file_extension": ".py",
   "mimetype": "text/x-python",
   "name": "python",
   "nbconvert_exporter": "python",
   "pygments_lexer": "ipython3",
   "version": "3.12.5"
  }
 },
 "nbformat": 4,
 "nbformat_minor": 5
}
