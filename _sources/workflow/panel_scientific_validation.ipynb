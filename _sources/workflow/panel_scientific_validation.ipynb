{
 "cells": [
  {
   "cell_type": "markdown",
   "id": "4e747aae-c83b-4df0-95f1-6f48b5e36890",
   "metadata": {},
   "source": [
    "# Result Visualization with a `panel` application\n",
    "\n",
    "This notebook serves a `panel` webpage for result visualization.\n",
    "Notably, it assumes that it exists, in each tag folder:\n",
    "1. `ts_track_plot.html`\n",
    "2. `states.mp4`\n",
    "\n",
    "As a user, you don't need to understand the implementation part of the notebook.\n",
    "However, please **update the 2nd cell below _w.r.t_ the path of the results' location**.\n",
    "\n",
    "The variable is `scratch_root`."
   ]
  },
  {
   "cell_type": "markdown",
   "id": "614cd302-f6e5-43ac-84c3-6d35eeceee67",
   "metadata": {},
   "source": [
    "#### Important\n",
    "\n",
    "**Do _not_ use the shortcut in the header above the notebook ![Panel logo](data:image/png;base64,iVBORw0KGgoAAAANSUhEUgAAABwAAAAcCAMAAABF0y+mAAAAM1BMVEUAcrUBd7jk6OuoxdsAcrUAbLP08vAAbbUAdLUAcrVQnMm6z99+rM86jcJ5sNElhL10qc1QLvfMAAAACnRSTlPP////////KCjO4FwxLQAAAJNJREFUKJGNktEShCAIRRXCCrX2/792aaYU3YXpTDM+nMQLGtawGIQtmE6s48S+kkRkSBEHMim6rMyYAA7u1EdSTj9kenYWRPGQsVNaWTnjxFzifGhvJbbcTp+V4yCj4gOA19rSImgkmvxAf2Ua5Vw267Ij5xTIbcUdgjc+f/DelenLXu5vTGs/EwNfuo963S23b1+vug28mwd6wAAAAABJRU5ErkJggg==).**\n",
    "\n",
    "Instead, do `View -> Open with Panel in New Browser Tab` (last option)."
   ]
  },
  {
   "cell_type": "code",
   "execution_count": null,
   "id": "3",
   "metadata": {
    "editable": true,
    "papermill": {
     "duration": 1.705579,
     "end_time": "2025-01-09T13:02:13.103416",
     "exception": false,
     "start_time": "2025-01-09T13:02:11.397837",
     "status": "completed"
    },
    "slideshow": {
     "slide_type": ""
    },
    "tags": []
   },
   "outputs": [],
   "source": [
    "import html\n",
    "import os\n",
    "from pathlib import Path\n",
    "\n",
    "import panel as pn\n",
    "import s3fs\n",
    "\n",
    "pn.extension(design=\"material\", sizing_mode=\"stretch_width\")"
   ]
  },
  {
   "cell_type": "code",
   "execution_count": null,
   "id": "8a1fa483-fedd-44ed-a5ad-4a99a9880706",
   "metadata": {},
   "outputs": [],
   "source": [
    "# root of the results\n",
    "RESULT_ROOT = f\"s3://gfts-ifremer/kbatch_papermill/{os.getenv(\"JUPYTERHUB_USER\")}\"\n",
    "# where to cache/store the results in your home\n",
    "# as time of writing, they are consisting of .html and .mp4 files.\n",
    "# (feel free to change it)\n",
    "LOCAL_ROOT = \"panel_data\"\n",
    "# furthermore, set the variable below to True to update any potential cached result.\n",
    "# (Otherwise the app will display the current files found there!)\n",
    "ERASE = True"
   ]
  },
  {
   "cell_type": "code",
   "execution_count": null,
   "id": "4d014fcf",
   "metadata": {
    "papermill": {
     "duration": 0.056773,
     "end_time": "2025-01-09T13:02:13.500870",
     "exception": false,
     "start_time": "2025-01-09T13:02:13.444097",
     "status": "completed"
    },
    "tags": [
     "injected-parameters"
    ]
   },
   "outputs": [],
   "source": [
    "CACHE_PATH = Path(LOCAL_ROOT)\n",
    "os.makedirs(CACHE_PATH, exist_ok=True)\n",
    "# expected outcomes from the nbs\n",
    "RESULT_FILES = [\"states.mp4\", \"ts_track_plot.html\"]"
   ]
  },
  {
   "cell_type": "code",
   "execution_count": null,
   "id": "cc22bfda-19d0-487a-8296-993f09013b38",
   "metadata": {
    "editable": true,
    "papermill": {
     "duration": 0.089463,
     "end_time": "2025-01-09T13:02:13.877926",
     "exception": false,
     "start_time": "2025-01-09T13:02:13.788463",
     "status": "completed"
    },
    "scrolled": true,
    "slideshow": {
     "slide_type": ""
    },
    "tags": []
   },
   "outputs": [],
   "source": [
    "storage_options = {\n",
    "    \"anon\": False,\n",
    "    \"client_kwargs\": {\n",
    "        \"endpoint_url\": \"https://s3.gra.perf.cloud.ovh.net\",\n",
    "        \"region_name\": \"gra\",\n",
    "    },\n",
    "}\n",
    "S3 = s3fs.S3FileSystem(\n",
    "    anon=False,\n",
    "    client_kwargs={\n",
    "        \"endpoint_url\": \"https://s3.gra.perf.cloud.ovh.net\",\n",
    "    },\n",
    ")\n",
    "tag_list = [tag.split(\"/\")[-1] for tag in S3.ls(RESULT_ROOT) if \"nbs\" not in tag]\n",
    "# create the local FS\n",
    "for tn in tag_list:\n",
    "    os.makedirs(CACHE_PATH / tn, exist_ok=True)\n",
    "print(\"Tags available:\\n\", tag_list)"
   ]
  },
  {
   "cell_type": "markdown",
   "id": "1e5dcc61-332b-42ba-aff7-9391ef03027d",
   "metadata": {},
   "source": [
    "## Functions"
   ]
  },
  {
   "cell_type": "markdown",
   "id": "3a449e09-003d-429c-b454-aadef745bfcc",
   "metadata": {},
   "source": [
    "### Fetch the bucket"
   ]
  },
  {
   "cell_type": "code",
   "execution_count": null,
   "id": "33207dc3-49f7-4540-914a-b465e1301a85",
   "metadata": {},
   "outputs": [],
   "source": [
    "def get_html_data(filepath: str, erase: bool):\n",
    "    try:\n",
    "        local_fp = CACHE_PATH / filepath / \"ts_track_plot.html\"\n",
    "        remote_fp = f\"{RESULT_ROOT}/\" + str(Path(filepath) / \"ts_track_plot.html\")\n",
    "        if erase or not os.path.isfile(local_fp):\n",
    "            print(\"downloading html file for path...\", filepath)\n",
    "            S3.get_file(remote_fp, local_fp)\n",
    "    except Exception as e:\n",
    "        print(e)\n",
    "    return local_fp\n",
    "\n",
    "\n",
    "def get_video_data(filepath: str, erase: bool):\n",
    "    try:\n",
    "        local_fp = CACHE_PATH / filepath / \"states.mp4\"\n",
    "        remote_fp = f\"{RESULT_ROOT}/\" + str(Path(filepath) / \"states.mp4\")\n",
    "        if erase or not os.path.isfile(local_fp):\n",
    "            print(\"downloading video file for path...\", filepath)\n",
    "            S3.get_file(remote_fp, local_fp)\n",
    "    except Exception as e:\n",
    "        print(e)\n",
    "        print(remote_fp)\n",
    "    return local_fp"
   ]
  },
  {
   "cell_type": "markdown",
   "id": "588b67ca-0ace-4ad6-9c5f-58737af82ffb",
   "metadata": {},
   "source": [
    "**run the following to directly download the results locally.**\n",
    "**It can smooth the `panel`'s responsiveness.**\n",
    "```python\n",
    "for tag_name in tag_list:\n",
    "    get_html_data(tag_name)\n",
    "    get_video_data(tag_name)\n",
    "```"
   ]
  },
  {
   "cell_type": "markdown",
   "id": "aaf49693",
   "metadata": {},
   "source": [
    "### Build the `panel` object"
   ]
  },
  {
   "cell_type": "code",
   "execution_count": null,
   "id": "b6a29ed6-54a4-421c-8a5e-cc922daf590b",
   "metadata": {
    "scrolled": true
   },
   "outputs": [],
   "source": [
    "@pn.cache()\n",
    "def get_ts_plot(tag_name: str, erase: bool):\n",
    "    # downloads locally the result if needed\n",
    "    html_fn = get_html_data(Path(tag_name), erase)\n",
    "    try:\n",
    "        with open(html_fn, \"r\") as html_file:\n",
    "            html_content = html_file.read()\n",
    "        height = 100\n",
    "    except Exception as e:\n",
    "        html_content = str(e)\n",
    "        height = 10\n",
    "\n",
    "    escaped_html = html.escape(html_content)\n",
    "    iframe_html = f'<iframe srcdoc=\"{escaped_html}\" style=\"height:{height}%; width:100%\" frameborder=\"0\"></iframe>'\n",
    "    return pn.pane.HTML(\n",
    "        iframe_html, sizing_mode=f\"stretch_{\"width\" if height != 100 else \"both\"}\"\n",
    "    )\n",
    "\n",
    "\n",
    "@pn.cache()\n",
    "def get_video_plot(tag_name: str, erase: bool):\n",
    "    # downloads locally the result if needed\n",
    "    video_fp = get_video_data(Path(tag_name), erase)\n",
    "    video_fn = str(video_fp)\n",
    "    try:\n",
    "        video = pn.pane.Video(\n",
    "            video_fn,\n",
    "            loop=False,\n",
    "            autoplay=False,\n",
    "            width=1000,\n",
    "            # it should horizontally align the video HTLM element but without specific width it uses all the page's height...\n",
    "            styles={\n",
    "                \"display\": \"flex\",\n",
    "                \"justify-content\": \"center\",\n",
    "                \"margin-left\": \"25%\",\n",
    "                \"margin-right\": \"25%\",\n",
    "                \"width\": \"auto\",\n",
    "            },\n",
    "        )\n",
    "    except Exception as e:\n",
    "        video = pn.pane.HTML(str(e))\n",
    "    return video"
   ]
  },
  {
   "cell_type": "markdown",
   "id": "9bfdf031",
   "metadata": {},
   "source": [
    "## `panel` App (ending with a `.servable` object)"
   ]
  },
  {
   "cell_type": "code",
   "execution_count": null,
   "id": "b9cb4d3e-9714-42b0-8942-5c4f374efe16",
   "metadata": {
    "scrolled": true
   },
   "outputs": [],
   "source": [
    "tag_widget = pn.widgets.Select(name=\"tag_name\", value=tag_list[0], options=tag_list)\n",
    "\n",
    "ts_plot = pn.bind(get_ts_plot, tag_name=tag_widget, erase=ERASE)\n",
    "mov_plot = pn.bind(get_video_plot, tag_name=tag_widget, erase=ERASE)\n",
    "column = pn.Column(ts_plot, mov_plot)\n",
    "\n",
    "pn.template.MaterialTemplate(\n",
    "    site=\"Panel\",\n",
    "    title=\"Result Viz\",\n",
    "    sidebar=[tag_widget],\n",
    "    main=column,\n",
    ").servable();"
   ]
  },
  {
   "cell_type": "markdown",
   "id": "50b47e6a",
   "metadata": {},
   "source": [
    "## Notes\n",
    "\n",
    "In case of issues, suspected bugs and improvement suggestions, please open an issue on [GitHub](https://github.com/destination-earth/DestinE_ESA_GFTS/issues)."
   ]
  },
  {
   "cell_type": "markdown",
   "id": "4b43beff",
   "metadata": {},
   "source": []
  }
 ],
 "metadata": {
  "kernelspec": {
   "display_name": "Python 3 (ipykernel)",
   "language": "python",
   "name": "python3"
  },
  "language_info": {
   "codemirror_mode": {
    "name": "ipython",
    "version": 3
   },
   "file_extension": ".py",
   "mimetype": "text/x-python",
   "name": "python",
   "nbconvert_exporter": "python",
   "pygments_lexer": "ipython3",
   "version": "3.12.8"
  }
 },
 "nbformat": 4,
 "nbformat_minor": 5
}
