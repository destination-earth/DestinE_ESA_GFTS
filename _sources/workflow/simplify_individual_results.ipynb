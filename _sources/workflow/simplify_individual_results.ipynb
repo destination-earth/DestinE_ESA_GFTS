{
 "cells": [
  {
   "cell_type": "markdown",
   "metadata": {
    "vscode": {
     "languageId": "plaintext"
    }
   },
   "source": [
    "# Data Reduction: Individual Tags"
   ]
  },
  {
   "cell_type": "markdown",
   "metadata": {},
   "source": [
    "**In the cells below, remember to check the definitions of the constant values (and update them if needed!).**"
   ]
  },
  {
   "cell_type": "markdown",
   "metadata": {},
   "source": [
    "# 0. Initialization"
   ]
  },
  {
   "cell_type": "code",
   "execution_count": null,
   "metadata": {
    "collapsed": true,
    "jupyter": {
     "outputs_hidden": true
    }
   },
   "outputs": [],
   "source": [
    "!pip install xdggs\n",
    "!pip install xarray --upgrade\n",
    "!pip install --upgrade \"cf_xarray>=0.10.4\""
   ]
  },
  {
   "cell_type": "code",
   "execution_count": null,
   "metadata": {},
   "outputs": [],
   "source": [
    "# import libraries\n",
    "import os\n",
    "import json\n",
    "import tqdm\n",
    "import sys\n",
    "from pathlib import Path\n",
    "\n",
    "SOURCE_BUCKET = \"gfts-ifremer\"\n",
    "TARGET_BUCKET = \"destine-gfts-visualisation-data\"\n",
    "\n",
    "TAG_ROOT = \"https://data-taos.ifremer.fr/data_tmp/cleaned/tag/\"\n",
    "TAG_ROOT_STORAGE_OPTIONS = {}\n",
    "SOURCE_PREFIX = f\"kbatch_papermill/{os.getenv(\"JUPYTERHUB_USER\")}/\"\n",
    "SOURCE_SUFFIX = \"\"\n",
    "TARGET_PREFIX = \"taos_pollock/\""
   ]
  },
  {
   "cell_type": "code",
   "execution_count": null,
   "metadata": {},
   "outputs": [],
   "source": [
    "# set the constant values as environment variables\n",
    "os.environ[\"SOURCE_BUCKET\"] = SOURCE_BUCKET\n",
    "os.environ[\"TARGET_BUCKET\"] = TARGET_BUCKET\n",
    "os.environ[\"TAG_ROOT\"] = TAG_ROOT\n",
    "os.environ[\"TAG_ROOT_STORAGE_OPTIONS\"] = json.dumps(TAG_ROOT_STORAGE_OPTIONS)\n",
    "os.environ[\"SOURCE_PREFIX\"] = SOURCE_PREFIX\n",
    "os.environ[\"SOURCE_SUFFIX\"] = SOURCE_SUFFIX\n",
    "os.environ[\"TARGET_PREFIX\"] = TARGET_PREFIX"
   ]
  },
  {
   "cell_type": "code",
   "execution_count": null,
   "metadata": {},
   "outputs": [],
   "source": [
    "# add the patch to `regroup.py`\n",
    "path_to_local_gfts = \"gfts\"\n",
    "sys.path.append(Path().home() / path_to_local_gfts / \"scripts\")\n",
    "from simplify import list_tags, process_tag  # noqa: E402"
   ]
  },
  {
   "cell_type": "markdown",
   "metadata": {},
   "source": [
    "# 1. Execution"
   ]
  },
  {
   "cell_type": "code",
   "execution_count": null,
   "metadata": {},
   "outputs": [],
   "source": [
    "tag_list = list_tags()\n",
    "tag_list"
   ]
  },
  {
   "cell_type": "code",
   "execution_count": null,
   "metadata": {},
   "outputs": [],
   "source": [
    "# possibly, filter the tags to only select some of them\n",
    "# ...\n",
    "tag_list = tag_list[:-1]\n",
    "tag_list"
   ]
  },
  {
   "cell_type": "code",
   "execution_count": null,
   "metadata": {},
   "outputs": [],
   "source": [
    "for tag_name in tqdm.tqdm(tag_list):\n",
    "    process_tag(tag_name)"
   ]
  },
  {
   "cell_type": "markdown",
   "metadata": {},
   "source": [
    "Optionally, you can inspect the results:"
   ]
  },
  {
   "cell_type": "code",
   "execution_count": null,
   "metadata": {
    "scrolled": true
   },
   "outputs": [],
   "source": [
    "import s3fs  # noqa: E402\n",
    "\n",
    "storage_options = {\n",
    "    \"anon\": False,\n",
    "    \"profile\": \"gfts\",\n",
    "    \"client_kwargs\": {\n",
    "        \"endpoint_url\": \"https://s3.gra.perf.cloud.ovh.net/\",\n",
    "        \"region_name\": \"gra\",\n",
    "    },\n",
    "}\n",
    "\n",
    "s3 = s3fs.S3FileSystem(**storage_options)\n",
    "s3.ls(f\"{TARGET_BUCKET}/{TARGET_PREFIX}\")"
   ]
  },
  {
   "cell_type": "code",
   "execution_count": null,
   "metadata": {},
   "outputs": [],
   "source": []
  }
 ],
 "metadata": {
  "kernelspec": {
   "display_name": "Python 3 (ipykernel)",
   "language": "python",
   "name": "python3"
  },
  "language_info": {
   "codemirror_mode": {
    "name": "ipython",
    "version": 3
   },
   "file_extension": ".py",
   "mimetype": "text/x-python",
   "name": "python",
   "nbconvert_exporter": "python",
   "pygments_lexer": "ipython3",
   "version": "3.12.8"
  }
 },
 "nbformat": 4,
 "nbformat_minor": 4
}
