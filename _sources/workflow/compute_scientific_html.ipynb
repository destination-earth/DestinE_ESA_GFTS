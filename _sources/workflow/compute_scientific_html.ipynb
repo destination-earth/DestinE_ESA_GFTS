{
 "cells": [
  {
   "cell_type": "markdown",
   "metadata": {},
   "source": [
    "# Plot for scientific validation"
   ]
  },
  {
   "cell_type": "markdown",
   "metadata": {},
   "source": [
    "We recommend executing this notebook with `kbatch_papermill`.\n",
    "\n",
    "Given a result repository `result_root`, a tag name `tag_name` and the associated tag repository `tag_root`, the following cells compute a plot containing:\n",
    "1. The temperature and pressure timeseries of the tag.\n",
    "2. The different reconstructed trajectories of the fish.  "
   ]
  },
  {
   "cell_type": "code",
   "execution_count": null,
   "metadata": {
    "scrolled": true
   },
   "outputs": [],
   "source": [
    "# install pangeo-fish\n",
    "!pip install pangeo-fish\n",
    "!pip install --upgrade \"dask<2025\" \"distributed<2025\"\n",
    "!pip install dask[dataframe]\n",
    "!pip list | grep -e dask -e distributed"
   ]
  },
  {
   "cell_type": "code",
   "execution_count": null,
   "metadata": {},
   "outputs": [],
   "source": [
    "# import libraries\n",
    "import xarray as xr\n",
    "import pangeo_fish\n",
    "import warnings\n",
    "\n",
    "import holoviews as hv\n",
    "import pandas as pd\n",
    "import movingpandas as mpd\n",
    "import geopandas as gpd\n",
    "\n",
    "from holoviews.element.chart import Curve\n",
    "from holoviews.core.overlay import Overlay\n",
    "\n",
    "from pangeo_fish.io import open_tag, read_trajectories, save_html_hvplot\n",
    "from pangeo_fish.tags import to_time_slice\n",
    "\n",
    "pangeo_fish.__version__"
   ]
  },
  {
   "cell_type": "code",
   "execution_count": null,
   "metadata": {
    "tags": [
     "parameters"
    ]
   },
   "outputs": [],
   "source": [
    "# this will be updated by `papermill` (or do it yourself if you execute the notebook manually!)\n",
    "tag_root = \"s3://gfts-ifremer/bar_taos/formatted/\"\n",
    "tag_name = \"PE_A18891\"\n",
    "result_root = \"s3://gfts-ifremer/bar_taos/run/username/test\"\n",
    "\n",
    "storage_options = {\n",
    "    \"anon\": False,\n",
    "    \"profile\": \"gfts\",\n",
    "    \"client_kwargs\": {\n",
    "        \"endpoint_url\": \"https://s3.gra.perf.cloud.ovh.net\",\n",
    "        \"region_name\": \"gra\",\n",
    "    },\n",
    "}"
   ]
  },
  {
   "cell_type": "code",
   "execution_count": null,
   "metadata": {},
   "outputs": [],
   "source": [
    "track_modes = [\"mean\", \"mode\"]\n",
    "target_root = f\"{result_root}/{tag_name}\"\n",
    "target_root"
   ]
  },
  {
   "cell_type": "code",
   "execution_count": null,
   "metadata": {},
   "outputs": [],
   "source": [
    "# load trajectories\n",
    "trajectories = read_trajectories(\n",
    "    track_modes, target_root, storage_options, format=\"parquet\"\n",
    ")\n",
    "\n",
    "# retrieve the pd.DataFrame objects\n",
    "mean_df = trajectories.trajectories[0].df\n",
    "mode_df = trajectories.trajectories[1].df"
   ]
  },
  {
   "cell_type": "markdown",
   "metadata": {},
   "source": [
    "## Plotting Functions"
   ]
  },
  {
   "cell_type": "code",
   "execution_count": null,
   "metadata": {},
   "outputs": [],
   "source": [
    "opts_kwargs = {\n",
    "    \"color\": \"red\",\n",
    "    \"line_width\": 1,\n",
    "    \"alpha\": 0.5,\n",
    "    \"line_dash\": \"dashed\",\n",
    "}\n",
    "\n",
    "\n",
    "def create_vertical_lines(da: xr.DataArray, opts={}):\n",
    "    # creates vertical lines styled w.r.t ``opts``\n",
    "    vlines = hv.VLines(da.time.values).opts(**opts)\n",
    "    return vlines\n",
    "\n",
    "\n",
    "def add_vertical_lines(plot, da: xr.DataArray, opts={}, margin_factor=0.1):\n",
    "    # adds vertical lines to a Curve object while preserving the initial vertical vertical limits\n",
    "    if isinstance(plot, Curve):\n",
    "        dim_name = plot.dimensions()[-1]\n",
    "    elif isinstance(plot, Overlay):\n",
    "        dim_name = plot.get_dimension(plot.ddims[-1])\n",
    "    else:\n",
    "        raise Exception(f\"unknown type for plot: {type(plot)}\")\n",
    "\n",
    "    y_range = plot.range(dim_name)\n",
    "    y_min, y_max = y_range\n",
    "    padding = (y_max - y_min) * margin_factor\n",
    "    y_min -= padding\n",
    "    y_max += padding\n",
    "\n",
    "    vlines = create_vertical_lines(da, opts)\n",
    "    return (plot * vlines).opts(ylim=(y_min, y_max))\n",
    "\n",
    "\n",
    "def plot_ts(mean_df: pd.DataFrame, mode_df: pd.DataFrame, tag: xr.DataTree):\n",
    "    time_slice = to_time_slice(tag[\"tagging_events/time\"])\n",
    "    tag_log = tag[\"dst\"].ds.sel(time=time_slice)\n",
    "\n",
    "    # Creating pandas series for xarrray dataset\n",
    "    mean_lon_ = pd.Series(mean_df.geometry.x, name=\"longitude\")\n",
    "    mean_lat_ = pd.Series(mean_df.geometry.y, name=\"latitude\")\n",
    "    mode_lon_ = pd.Series(mode_df.geometry.x, name=\"longitude\")\n",
    "    mode_lat_ = pd.Series(mode_df.geometry.y, name=\"latitude\")\n",
    "\n",
    "    # Creating xarray datasets\n",
    "    mean_coords = xr.Dataset(pd.concat([mean_lon_, mean_lat_], axis=1))\n",
    "    mode_coords = xr.Dataset(pd.concat([mode_lon_, mode_lat_], axis=1))\n",
    "\n",
    "    # Assigning dataarrays to variables\n",
    "    mean_lon = mean_coords[\"longitude\"]\n",
    "    mean_lat = mean_coords[\"latitude\"]\n",
    "    mode_lon = mode_coords[\"longitude\"]\n",
    "    mode_lat = mode_coords[\"latitude\"]\n",
    "\n",
    "    width = 500\n",
    "    height = 250\n",
    "\n",
    "    tag_log[\"depth\"] = tag_log[\"pressure\"]\n",
    "\n",
    "    temp_plot = tag_log[\"temperature\"].hvplot(\n",
    "        color=\"Red\", title=\"Temperature (°C)\", grid=True\n",
    "    )\n",
    "    temp_plot = add_vertical_lines(\n",
    "        temp_plot, da=tag[\"acoustic\"], opts=opts_kwargs, margin_factor=0.1\n",
    "    ).opts(height=height, width=width)\n",
    "\n",
    "    depth_plot = (-tag_log[\"depth\"]).hvplot(color=\"Blue\", title=\"Depth (m)\", grid=True)\n",
    "    depth_plot = add_vertical_lines(\n",
    "        depth_plot, da=tag[\"acoustic\"], opts=opts_kwargs, margin_factor=0.1\n",
    "    ).opts(height=height, width=width)\n",
    "\n",
    "    lon_plot = (\n",
    "        mean_lat.hvplot(label=\"mean\", clim=[mean_lat_.min(), mean_lat_.max()])\n",
    "        * mode_lat.hvplot(label=\"mode\", clim=[mode_lat_.min(), mean_lat_.max()])\n",
    "    ).opts(show_grid=True, title=\"Fish latitude over time\")\n",
    "    lon_plot = add_vertical_lines(\n",
    "        lon_plot, da=tag[\"acoustic\"], opts=opts_kwargs, margin_factor=0.1\n",
    "    ).opts(height=height, width=width)\n",
    "\n",
    "    lat_plot = (\n",
    "        mean_lon.hvplot(label=\"mean\", clim=[mean_lon_.min(), mean_lat_.max()])\n",
    "        * mode_lon.hvplot(label=\"mode\", clim=[mode_lon_.min(), mean_lat_.max()])\n",
    "    ).opts(show_grid=True, title=\"Fish longitude over time\")\n",
    "    lat_plot = add_vertical_lines(\n",
    "        lat_plot, da=tag[\"acoustic\"], opts=opts_kwargs, margin_factor=0.1\n",
    "    ).opts(height=height, width=width)\n",
    "\n",
    "    return (temp_plot + depth_plot + lon_plot + lat_plot).cols(1)"
   ]
  },
  {
   "cell_type": "code",
   "execution_count": null,
   "metadata": {},
   "outputs": [],
   "source": [
    "def gather_points(tag: xr.DataTree):\n",
    "    def _aux_df(data: dict, **points_kwargs):\n",
    "        df = pd.DataFrame.from_dict(data)\n",
    "        gdf = gpd.GeoDataFrame(\n",
    "            df, geometry=gpd.points_from_xy(df.longitude, df.latitude), crs=\"EPSG:4326\"\n",
    "        )\n",
    "        kwargs = {\n",
    "            \"geo\": True,\n",
    "            \"tiles\": \"CartoLight\",\n",
    "            \"x\": \"longitude\",\n",
    "            \"y\": \"latitude\",\n",
    "            \"size\": 50,\n",
    "        }\n",
    "        kwargs.update(points_kwargs)\n",
    "        return gdf.hvplot.points(**kwargs)\n",
    "\n",
    "    # adds the initial position\n",
    "    longitude = [tag[\"tagging_events\"].isel(event_name=0).longitude.to_numpy().item()]\n",
    "    latitude = [tag[\"tagging_events\"].isel(event_name=0).latitude.to_numpy().item()]\n",
    "    data = {\"longitude\": longitude, \"latitude\": latitude}\n",
    "    init_plot = _aux_df(\n",
    "        data, color=\"red\", marker=\"o\", label=\"Release\", tiles=None, legend=True\n",
    "    )\n",
    "\n",
    "    # adds the detection positions\n",
    "    # the variable names might depend on the tags\n",
    "    lon_var_name, lat_var_name = None, None\n",
    "    for var_name in tag[\"acoustic\"].data_vars:\n",
    "        if \"longitude\" in var_name:\n",
    "            lon_var_name = var_name\n",
    "        if \"latitude\" in var_name:\n",
    "            lat_var_name = var_name\n",
    "\n",
    "    if (lon_var_name is None) or (lat_var_name is None):\n",
    "        warnings.warn(\n",
    "            'Lon/lat variables in `tag[\"acoustic\"]` could not be found.', RuntimeWarning\n",
    "        )\n",
    "        return init_plot\n",
    "\n",
    "    longitude = tag[\"acoustic\"][lon_var_name].to_numpy()\n",
    "    latitude = tag[\"acoustic\"][lat_var_name].to_numpy()\n",
    "    data = {\"longitude\": longitude, \"latitude\": latitude}\n",
    "    detections_plot = _aux_df(\n",
    "        data, color=\"black\", marker=\"x\", label=\"Detections\", tiles=None, legend=True\n",
    "    )\n",
    "    return init_plot * detections_plot"
   ]
  },
  {
   "cell_type": "code",
   "execution_count": null,
   "metadata": {},
   "outputs": [],
   "source": [
    "def plot_track(mean_df: pd.DataFrame, mode_df: pd.DataFrame):\n",
    "    try:\n",
    "        sigma = pd.read_json(f\"{target_root}/parameters.json\").to_dict()[0][\"sigma\"]\n",
    "    except FileNotFoundError:\n",
    "        print(\n",
    "            'Optimisation result (\"parameters.json\") not found. Sigma won\\'t be shown in the title.'\n",
    "        )\n",
    "        sigma = \"\"\n",
    "\n",
    "    mean_df[\"month\"] = mean_df.index.strftime(\"%B\")\n",
    "    mode_df[\"month\"] = mode_df.index.strftime(\"%B\")\n",
    "\n",
    "    # Converting back to trajectories (...)\n",
    "    mean_traj = mpd.Trajectory(\n",
    "        mean_df, traj_id=mean_df.traj_id.drop_duplicates().values[0]\n",
    "    )\n",
    "    mode_traj = mpd.Trajectory(\n",
    "        mode_df, traj_id=mode_df.traj_id.drop_duplicates().values[0]\n",
    "    )\n",
    "    trajectories = mpd.TrajectoryCollection([mean_traj, mode_traj])\n",
    "\n",
    "    plots = []\n",
    "    for i, traj in enumerate(trajectories.trajectories):\n",
    "        title = f\"track mode: {traj.id}\"\n",
    "        title += f\", {tag_name}, {sigma:.5f}\" if (i % 2 == 0) else \"\"\n",
    "        traj_plot = traj.hvplot(\n",
    "            c=\"month\",\n",
    "            tiles=\"CartoLight\",\n",
    "            cmap=\"rainbow\",\n",
    "            title=title,\n",
    "            width=500,\n",
    "            height=400,\n",
    "            legend=True,  # (i % 2 == 0)\n",
    "        )\n",
    "        # if (i % 2 == 0):\n",
    "        #     traj_plot = traj_plot.opts(legend_position=\"bottom_right\")\n",
    "        plots.append(traj_plot)\n",
    "\n",
    "    return hv.Layout(plots).cols(2)"
   ]
  },
  {
   "cell_type": "markdown",
   "metadata": {},
   "source": [
    "## Execution"
   ]
  },
  {
   "cell_type": "code",
   "execution_count": null,
   "metadata": {},
   "outputs": [],
   "source": [
    "tag = open_tag(tag_root, tag_name)\n",
    "tag"
   ]
  },
  {
   "cell_type": "code",
   "execution_count": null,
   "metadata": {},
   "outputs": [],
   "source": [
    "ts_plot = plot_ts(mean_df, mode_df, tag)\n",
    "track_plot = plot_track(mean_df, mode_df) * gather_points(tag)\n",
    "plot = (ts_plot + track_plot).cols(2)\n",
    "plot"
   ]
  },
  {
   "cell_type": "code",
   "execution_count": null,
   "metadata": {},
   "outputs": [],
   "source": [
    "save_html_hvplot(plot, f\"{target_root}/ts_track_plot.html\", storage_options)"
   ]
  }
 ],
 "metadata": {
  "kernelspec": {
   "display_name": "Python 3 (ipykernel)",
   "language": "python",
   "name": "python3"
  },
  "language_info": {
   "codemirror_mode": {
    "name": "ipython",
    "version": 3
   },
   "file_extension": ".py",
   "mimetype": "text/x-python",
   "name": "python",
   "nbconvert_exporter": "python",
   "pygments_lexer": "ipython3",
   "version": "3.12.8"
  }
 },
 "nbformat": 4,
 "nbformat_minor": 4
}
