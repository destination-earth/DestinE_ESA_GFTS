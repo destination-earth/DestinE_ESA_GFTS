{
 "cells": [
  {
   "cell_type": "markdown",
   "id": "9289f16d-f3bd-45ac-84b8-6e5b5b208dbe",
   "metadata": {},
   "source": [
    "# Extract selected area from DestinE Climate Twin in Healpix to Zarr\n",
    "\n",
    "The goal of this notebook is to read 2D variables from GFTS bucket and select a small geographical area and store the results in zarr.\n"
   ]
  },
  {
   "cell_type": "code",
   "execution_count": null,
   "id": "3dc762a3-9ad7-40d4-9fe8-0806c7699ea5",
   "metadata": {
    "editable": true,
    "slideshow": {
     "slide_type": ""
    },
    "tags": []
   },
   "outputs": [],
   "source": [
    "pip install xdggs"
   ]
  },
  {
   "cell_type": "code",
   "execution_count": null,
   "id": "ae6fb4a6-637a-476d-9af9-af57c0339de9",
   "metadata": {
    "editable": true,
    "slideshow": {
     "slide_type": ""
    },
    "tags": []
   },
   "outputs": [],
   "source": [
    "import xarray as xr\n",
    "import healpy as hp\n",
    "\n",
    "import fsspec\n",
    "import datetime\n",
    "import os\n",
    "import s3fs\n",
    "import hvplot.pandas  # noqa\n",
    "import hvplot.xarray  # noqa\n",
    "import cartopy.crs as ccrs"
   ]
  },
  {
   "cell_type": "markdown",
   "id": "b63a6f64-f14b-4e9e-b504-7cdd3b008283",
   "metadata": {
    "editable": true,
    "slideshow": {
     "slide_type": ""
    },
    "tags": []
   },
   "source": [
    "## 2D variables to process"
   ]
  },
  {
   "cell_type": "code",
   "execution_count": null,
   "id": "f31d8359-7eba-414b-9c2b-ea9b79d2b12e",
   "metadata": {
    "editable": true,
    "slideshow": {
     "slide_type": ""
    },
    "tags": []
   },
   "outputs": [],
   "source": [
    "variables2D = [\"avg_sos\", \"avg_hc300m\", \"avg_hc700m\", \"avg_zos\"]\n",
    "years = [2020, 2021, 2022, 2023, 2024, 2025, 2026, 2027, 2028, 2029, 2030]\n",
    "months = [6]\n",
    "models = [\"ifs-nemo\"]\n",
    "maxlevels = {}\n",
    "maxlevels[\"ifs-nemo\"] = 75\n",
    "maxlevels[\"icon\"] = 72"
   ]
  },
  {
   "cell_type": "markdown",
   "id": "85b42cd1-044f-41a4-ab83-120f15ee7110",
   "metadata": {
    "editable": true,
    "slideshow": {
     "slide_type": ""
    },
    "tags": []
   },
   "source": [
    "## Define Geographical area"
   ]
  },
  {
   "cell_type": "code",
   "execution_count": null,
   "id": "b6a77a71-8a6b-4cc8-bbed-aa1031083608",
   "metadata": {
    "editable": true,
    "slideshow": {
     "slide_type": ""
    },
    "tags": []
   },
   "outputs": [],
   "source": [
    "bbox = {\"latitude\": [46, 51], \"longitude\": [-8, -1]}"
   ]
  },
  {
   "cell_type": "markdown",
   "id": "89928417-f1bb-4a68-8575-4f993b6dbb2d",
   "metadata": {
    "editable": true,
    "slideshow": {
     "slide_type": ""
    },
    "tags": []
   },
   "source": [
    "## Processing"
   ]
  },
  {
   "cell_type": "code",
   "execution_count": null,
   "id": "82f85b9a-d78d-4fb9-877e-1ca52764ea8f",
   "metadata": {
    "editable": true,
    "scrolled": true,
    "slideshow": {
     "slide_type": ""
    },
    "tags": [
     "hide-output"
    ]
   },
   "outputs": [],
   "source": [
    "%%time\n",
    "for model in models:\n",
    "    for var in variables2D:\n",
    "        for year in years:\n",
    "            for month in months:\n",
    "                for p in range(2):\n",
    "                    start_date = datetime.datetime(\n",
    "                        year, month, 1\n",
    "                    ) + p * datetime.timedelta(days=15)\n",
    "                    end_date = start_date + datetime.timedelta(days=14)\n",
    "                    uri = (\n",
    "                        \"simplecache::s3://gfts-reference-data/ClimateDT/raw/\"\n",
    "                        + var\n",
    "                        + \"_\"\n",
    "                        + model\n",
    "                        + \"_\"\n",
    "                        + start_date.strftime(\"%Y%m%d\")\n",
    "                        + \"-\"\n",
    "                        + end_date.strftime(\"%Y%m%d\")\n",
    "                        + \".grib\"\n",
    "                    )\n",
    "                    print(uri)\n",
    "                    try:\n",
    "                        if not os.path.isdir(\n",
    "                            \"small/\" + os.path.basename(uri).split(\".grib\")[0] + \".zarr\"\n",
    "                        ):\n",
    "                            file = fsspec.open_local(\n",
    "                                uri,\n",
    "                                s3={\"anon\": False},\n",
    "                                filecache={\n",
    "                                    \"cache_storage\": \"/home/jovyan/cache_storage\"\n",
    "                                },\n",
    "                            )\n",
    "                            dset = xr.open_dataset(file, engine=\"cfgrib\")\n",
    "                            npix = dset.sizes[\"values\"]\n",
    "                            nest = True\n",
    "                            nside = hp.npix2nside(npix)\n",
    "                            cell_ids = range(0, 12 * nside**2)\n",
    "                            cell_ids = range(12 * nside**2, 0, -1)\n",
    "                            dset = dset.assign_coords(\n",
    "                                {\"cell_ids\": (\"values\", cell_ids)}\n",
    "                            ).swap_dims({\"values\": \"cell_ids\"})\n",
    "                            dset.cell_ids.attrs = {\n",
    "                                \"grid_name\": \"healpix\",\n",
    "                                \"nside\": nside,\n",
    "                                \"nest\": nest,\n",
    "                            }\n",
    "                            dset[\"longitude\"] = ((dset.longitude + 180) % 360) - 180\n",
    "\n",
    "                            dset.sortby(\"cell_ids\").where(\n",
    "                                (dset.latitude >= bbox[\"latitude\"][0])\n",
    "                                & (dset.latitude <= bbox[\"latitude\"][1])\n",
    "                                & (dset.longitude >= bbox[\"longitude\"][0])\n",
    "                                & (dset.longitude <= bbox[\"longitude\"][1]),\n",
    "                                drop=True,\n",
    "                            ).to_zarr(\n",
    "                                \"small/\"\n",
    "                                + os.path.basename(uri).split(\".grib\")[0]\n",
    "                                + \".zarr\"\n",
    "                            )\n",
    "                        else:\n",
    "                            print(\"zarr file exists for \", uri)\n",
    "                    except Exception:\n",
    "                        print(\"not processing file \", uri)"
   ]
  },
  {
   "cell_type": "markdown",
   "id": "43e94160-1f0b-4ae3-a7e1-62052fa5034e",
   "metadata": {
    "editable": true,
    "slideshow": {
     "slide_type": ""
    },
    "tags": []
   },
   "source": [
    "## Save geographical area cell_ids"
   ]
  },
  {
   "cell_type": "code",
   "execution_count": null,
   "id": "0d8117b1-f190-4ff2-b6b1-f6e85c357c4c",
   "metadata": {
    "editable": true,
    "slideshow": {
     "slide_type": ""
    },
    "tags": []
   },
   "outputs": [],
   "source": [
    "var"
   ]
  },
  {
   "cell_type": "code",
   "execution_count": null,
   "id": "5b9e48bf-0419-47fc-a13a-13ce1e110a0f",
   "metadata": {
    "editable": true,
    "slideshow": {
     "slide_type": ""
    },
    "tags": []
   },
   "outputs": [],
   "source": [
    "if not os.path.isdir(\"cell_ids.zarr\") and \"dset\" in locals():\n",
    "    dset.sortby(\"cell_ids\").isel(time=0).reset_coords(\"time\", drop=True).where(\n",
    "        (dset.latitude >= bbox[\"latitude\"][0])\n",
    "        & (dset.latitude <= bbox[\"latitude\"][1])\n",
    "        & (dset.longitude >= bbox[\"longitude\"][0])\n",
    "        & (dset.longitude <= bbox[\"longitude\"][1]),\n",
    "        drop=True,\n",
    "    ).drop_vars(var).to_zarr(\"cell_ids.zarr\")"
   ]
  },
  {
   "cell_type": "markdown",
   "id": "a1f989c4-7620-4909-b990-bddc29f5e1f4",
   "metadata": {
    "editable": true,
    "slideshow": {
     "slide_type": ""
    },
    "tags": []
   },
   "source": [
    "## 3D variables to process"
   ]
  },
  {
   "cell_type": "code",
   "execution_count": null,
   "id": "15f24c77-fa81-47fb-933b-0b775cf6b3d9",
   "metadata": {
    "editable": true,
    "slideshow": {
     "slide_type": ""
    },
    "tags": []
   },
   "outputs": [],
   "source": [
    "variables3D = [\"avg_thetao\", \"avg_so\", \"avg_von\", \"avg_uoe\", \"avg_wo\"]"
   ]
  },
  {
   "cell_type": "code",
   "execution_count": null,
   "id": "e7343e13-8916-4063-aa12-0e06c84eda2d",
   "metadata": {
    "editable": true,
    "scrolled": true,
    "slideshow": {
     "slide_type": ""
    },
    "tags": [
     "hide-output"
    ]
   },
   "outputs": [],
   "source": [
    "for model in models:\n",
    "    for var in variables3D:\n",
    "        for year in years:\n",
    "            for month in months:\n",
    "                for p in range(2):\n",
    "                    start_date = datetime.datetime(\n",
    "                        year, month, 1\n",
    "                    ) + p * datetime.timedelta(days=15)\n",
    "                    end_date = start_date + datetime.timedelta(days=14)\n",
    "                    uri = (\n",
    "                        \"simplecache::s3://gfts-reference-data/ClimateDT/raw/\"\n",
    "                        + var\n",
    "                        + \"_\"\n",
    "                        + model\n",
    "                        + \"_\"\n",
    "                        + start_date.strftime(\"%Y%m%d\")\n",
    "                        + \"-\"\n",
    "                        + end_date.strftime(\"%Y%m%d\")\n",
    "                        + \".grib\"\n",
    "                    )\n",
    "                    print(uri)\n",
    "                    try:\n",
    "                        if not os.path.isdir(\n",
    "                            \"small/\" + os.path.basename(uri).split(\".grib\")[0] + \".zarr\"\n",
    "                        ):\n",
    "                            file = fsspec.open_local(\n",
    "                                uri,\n",
    "                                s3={\"anon\": False},\n",
    "                                filecache={\n",
    "                                    \"cache_storage\": \"/home/jovyan/cache_storage\"\n",
    "                                },\n",
    "                            )\n",
    "                            dset = xr.open_dataset(\n",
    "                                file, engine=\"cfgrib\", chunks={\"time\": 1}\n",
    "                            )\n",
    "                            npix = dset.sizes[\"values\"]\n",
    "                            nest = True\n",
    "                            nside = hp.npix2nside(npix)\n",
    "                            cell_ids = range(0, 12 * nside**2)\n",
    "                            cell_ids = range(12 * nside**2, 0, -1)\n",
    "                            dset = dset.assign_coords(\n",
    "                                {\"cell_ids\": (\"values\", cell_ids)}\n",
    "                            ).swap_dims({\"values\": \"cell_ids\"})\n",
    "                            dset.cell_ids.attrs = {\n",
    "                                \"grid_name\": \"healpix\",\n",
    "                                \"nside\": nside,\n",
    "                                \"nest\": nest,\n",
    "                            }\n",
    "                            dset[\"longitude\"] = ((dset.longitude + 180) % 360) - 180\n",
    "                            dcell_ids = xr.open_dataset(\"cell_ids.zarr\", engine=\"zarr\")\n",
    "                            dcell_ids = dcell_ids.expand_dims(\n",
    "                                dim={\"time\": dset.time.size}\n",
    "                            )\n",
    "                            dset = dset.sortby(\"cell_ids\")\n",
    "                            dset.where(\n",
    "                                dset.cell_ids == dcell_ids.cell_ids, drop=True\n",
    "                            ).to_zarr(\n",
    "                                \"small/\"\n",
    "                                + os.path.basename(uri).split(\".grib\")[0]\n",
    "                                + \".zarr\"\n",
    "                            )\n",
    "                        else:\n",
    "                            print(\"zarr file exists for \", uri)\n",
    "                    except Exception:\n",
    "                        print(\"not processing file \", uri)"
   ]
  },
  {
   "cell_type": "markdown",
   "id": "f6c5b48d-b769-43a3-a0b1-feae79b017f7",
   "metadata": {
    "editable": true,
    "slideshow": {
     "slide_type": ""
    },
    "tags": []
   },
   "source": [
    "## Open and consolidate 2D datasets"
   ]
  },
  {
   "cell_type": "code",
   "execution_count": null,
   "id": "49380666-4b58-4129-93c7-329f23c404ed",
   "metadata": {
    "editable": true,
    "slideshow": {
     "slide_type": ""
    },
    "tags": []
   },
   "outputs": [],
   "source": [
    "list_files = []"
   ]
  },
  {
   "cell_type": "code",
   "execution_count": null,
   "id": "3f725197-0d2e-4ca1-bd36-c15b8ae0e91e",
   "metadata": {
    "editable": true,
    "slideshow": {
     "slide_type": ""
    },
    "tags": []
   },
   "outputs": [],
   "source": [
    "for model in models:\n",
    "    for var in variables2D:\n",
    "        for year in years:\n",
    "            for month in months:\n",
    "                for p in range(2):\n",
    "                    start_date = datetime.datetime(\n",
    "                        year, month, 1\n",
    "                    ) + p * datetime.timedelta(days=15)\n",
    "                    end_date = start_date + datetime.timedelta(days=14)\n",
    "                    zarrfile = (\n",
    "                        var\n",
    "                        + \"_\"\n",
    "                        + model\n",
    "                        + \"_\"\n",
    "                        + start_date.strftime(\"%Y%m%d\")\n",
    "                        + \"-\"\n",
    "                        + end_date.strftime(\"%Y%m%d\")\n",
    "                        + \".zarr\"\n",
    "                    )\n",
    "                    print(zarrfile)\n",
    "\n",
    "                    if os.path.isdir(\"small/\" + os.path.basename(zarrfile)):\n",
    "                        list_files.append(\"small/\" + zarrfile)"
   ]
  },
  {
   "cell_type": "code",
   "execution_count": null,
   "id": "f15be867-c50b-4b08-a4d3-8455d7410a8f",
   "metadata": {
    "editable": true,
    "slideshow": {
     "slide_type": ""
    },
    "tags": []
   },
   "outputs": [],
   "source": [
    "dset = xr.open_mfdataset(list_files, engine=\"zarr\")\n",
    "dset"
   ]
  },
  {
   "cell_type": "code",
   "execution_count": null,
   "id": "2d23ad24-1f3c-4772-804a-544e6b893eac",
   "metadata": {},
   "outputs": [],
   "source": [
    "dset.sortby(\"cell_ids\").chunk(\"auto\").to_zarr(\n",
    "    \"d2D_consolidated.zarr\", mode=\"w\", consolidated=True, compute=True\n",
    ")"
   ]
  },
  {
   "cell_type": "code",
   "execution_count": null,
   "id": "9e2cd8cd-8f25-4f2e-9bde-7c5f3ecd621a",
   "metadata": {},
   "outputs": [],
   "source": [
    "dset = xr.open_mfdataset([\"d2D_consolidated.zarr\"], engine=\"zarr\")\n",
    "dset"
   ]
  },
  {
   "cell_type": "markdown",
   "id": "3dd41547-b8b3-4a0e-9d79-da6c1ab7ee64",
   "metadata": {
    "editable": true,
    "slideshow": {
     "slide_type": ""
    },
    "tags": []
   },
   "source": [
    "### Set the path to the remote location"
   ]
  },
  {
   "cell_type": "code",
   "execution_count": null,
   "id": "268bbfbe-938b-4163-9b01-fe1b5c42c26b",
   "metadata": {
    "editable": true,
    "slideshow": {
     "slide_type": ""
    },
    "tags": []
   },
   "outputs": [],
   "source": [
    "target2D = fsspec.get_mapper(\n",
    "    \"s3://gfts-reference-data/ClimateDT/bbox_area1/climateDT_2D_sorted.zarr\",\n",
    "    client_kwargs={\n",
    "        \"endpoint_url\": \"https://s3.gra.perf.cloud.ovh.net\",\n",
    "        \"region_name\": \"gra\",\n",
    "    },\n",
    ")"
   ]
  },
  {
   "cell_type": "code",
   "execution_count": null,
   "id": "3cf8f576-cf95-4047-aca8-2e95d778845a",
   "metadata": {
    "editable": true,
    "slideshow": {
     "slide_type": ""
    },
    "tags": []
   },
   "outputs": [],
   "source": [
    "dset.sortby(\"cell_ids\").chunk(\"auto\").to_zarr(\n",
    "    store=target2D, mode=\"w\", consolidated=True, compute=True\n",
    ")"
   ]
  },
  {
   "cell_type": "markdown",
   "id": "922fbf92-2a63-419e-a3ca-cacd33561efc",
   "metadata": {
    "editable": true,
    "slideshow": {
     "slide_type": ""
    },
    "tags": []
   },
   "source": [
    "## Open and consolidate 3D datasets"
   ]
  },
  {
   "cell_type": "code",
   "execution_count": null,
   "id": "ef2fb5b8-b4ab-4971-b4b0-bcf358bb212e",
   "metadata": {
    "editable": true,
    "slideshow": {
     "slide_type": ""
    },
    "tags": []
   },
   "outputs": [],
   "source": [
    "list_files = []"
   ]
  },
  {
   "cell_type": "code",
   "execution_count": null,
   "id": "4f567f01-ddce-46bb-afe7-3dd53a77f41b",
   "metadata": {
    "editable": true,
    "scrolled": true,
    "slideshow": {
     "slide_type": ""
    },
    "tags": []
   },
   "outputs": [],
   "source": [
    "for model in models:\n",
    "    for var in variables3D:\n",
    "        for year in years:\n",
    "            for month in months:\n",
    "                for p in range(2):\n",
    "                    start_date = datetime.datetime(\n",
    "                        year, month, 1\n",
    "                    ) + p * datetime.timedelta(days=15)\n",
    "                    end_date = start_date + datetime.timedelta(days=14)\n",
    "                    zarrfile = (\n",
    "                        var\n",
    "                        + \"_\"\n",
    "                        + model\n",
    "                        + \"_\"\n",
    "                        + start_date.strftime(\"%Y%m%d\")\n",
    "                        + \"-\"\n",
    "                        + end_date.strftime(\"%Y%m%d\")\n",
    "                        + \".zarr\"\n",
    "                    )\n",
    "                    print(zarrfile)\n",
    "\n",
    "                    if os.path.isdir(\"small/\" + os.path.basename(zarrfile)):\n",
    "                        list_files.append(\"small/\" + zarrfile)"
   ]
  },
  {
   "cell_type": "code",
   "execution_count": null,
   "id": "bf7b9249-a679-4bc7-92f4-b52cd3ab9cb4",
   "metadata": {},
   "outputs": [],
   "source": [
    "list_files"
   ]
  },
  {
   "cell_type": "code",
   "execution_count": null,
   "id": "5ac026bf-3ebc-4bb2-a27a-81de7323649d",
   "metadata": {
    "editable": true,
    "scrolled": true,
    "slideshow": {
     "slide_type": ""
    },
    "tags": []
   },
   "outputs": [],
   "source": [
    "dset = xr.open_mfdataset(list_files, engine=\"zarr\")\n",
    "dset"
   ]
  },
  {
   "cell_type": "markdown",
   "id": "ff7d0cc6-059b-4662-a20c-e74c8cb9ca9f",
   "metadata": {
    "editable": true,
    "slideshow": {
     "slide_type": ""
    },
    "tags": []
   },
   "source": [
    "### Set the path to the remote location"
   ]
  },
  {
   "cell_type": "code",
   "execution_count": null,
   "id": "cddcc831-d44f-41ec-9dbc-6c74f413d2f8",
   "metadata": {
    "editable": true,
    "slideshow": {
     "slide_type": ""
    },
    "tags": []
   },
   "outputs": [],
   "source": [
    "target3D = fsspec.get_mapper(\n",
    "    \"s3://gfts-reference-data/ClimateDT/bbox_area1/climateDT_3D.zarr\",\n",
    "    client_kwargs={\n",
    "        \"endpoint_url\": \"https://s3.gra.perf.cloud.ovh.net\",\n",
    "        \"region_name\": \"gra\",\n",
    "    },\n",
    ")"
   ]
  },
  {
   "cell_type": "code",
   "execution_count": null,
   "id": "388c3c06-7dca-437d-9bae-3738b3120740",
   "metadata": {
    "editable": true,
    "slideshow": {
     "slide_type": ""
    },
    "tags": []
   },
   "outputs": [],
   "source": [
    "dset.sortby(\"cell_ids\").chunk(\"auto\").to_zarr(\n",
    "    store=target3D, mode=\"w\", consolidated=True, compute=True\n",
    ")"
   ]
  },
  {
   "cell_type": "markdown",
   "id": "084cbf8c-6ec5-4c2e-9960-9d4b77d40509",
   "metadata": {
    "editable": true,
    "slideshow": {
     "slide_type": ""
    },
    "tags": []
   },
   "source": [
    "## Loading remote zarr"
   ]
  },
  {
   "cell_type": "code",
   "execution_count": null,
   "id": "405f836a-1f6b-419f-a8dd-2ca2bbc0cf95",
   "metadata": {
    "editable": true,
    "slideshow": {
     "slide_type": ""
    },
    "tags": []
   },
   "outputs": [],
   "source": [
    "fsg = s3fs.S3FileSystem(\n",
    "    anon=False,\n",
    "    client_kwargs={\n",
    "        \"endpoint_url\": \"https://s3.gra.perf.cloud.ovh.net\",\n",
    "        \"region_name\": \"gra\",\n",
    "    },\n",
    ")"
   ]
  },
  {
   "cell_type": "code",
   "execution_count": null,
   "id": "220b0b8b-3fd6-49e2-87c2-4f19f763ad4d",
   "metadata": {
    "editable": true,
    "slideshow": {
     "slide_type": ""
    },
    "tags": []
   },
   "outputs": [],
   "source": [
    "store = s3fs.S3Map(\n",
    "    root=\"s3://gfts-reference-data/ClimateDT/bbox_area1/climateDT_2D.zarr\",\n",
    "    s3=fsg,\n",
    "    check=False,\n",
    ")\n",
    "d2D = xr.open_zarr(store=store, consolidated=True)"
   ]
  },
  {
   "cell_type": "code",
   "execution_count": null,
   "id": "941c863f-f6ad-4579-a348-ecbc7737e46f",
   "metadata": {
    "editable": true,
    "slideshow": {
     "slide_type": ""
    },
    "tags": []
   },
   "outputs": [],
   "source": [
    "d2D"
   ]
  },
  {
   "cell_type": "code",
   "execution_count": null,
   "id": "975abc2f-4681-4c60-8688-27b2fa1f88ae",
   "metadata": {
    "editable": true,
    "slideshow": {
     "slide_type": ""
    },
    "tags": []
   },
   "outputs": [],
   "source": [
    "store = s3fs.S3Map(\n",
    "    root=\"s3://gfts-reference-data/ClimateDT/bbox_area1/climateDT_3D.zarr\",\n",
    "    s3=fsg,\n",
    "    check=False,\n",
    ")\n",
    "d3D = xr.open_zarr(store=store, consolidated=True)\n",
    "d3D"
   ]
  },
  {
   "cell_type": "markdown",
   "id": "9b0f9e12-8deb-4480-b335-ee8f151791fd",
   "metadata": {
    "editable": true,
    "slideshow": {
     "slide_type": ""
    },
    "tags": []
   },
   "source": [
    "## Basic visualization"
   ]
  },
  {
   "cell_type": "code",
   "execution_count": null,
   "id": "73d78516-eb10-4635-bc7c-c30515011255",
   "metadata": {
    "editable": true,
    "slideshow": {
     "slide_type": ""
    },
    "tags": []
   },
   "outputs": [],
   "source": [
    "# hvplot.xarray bugs with 1D index.\n",
    "# workaround, is put that in pandas.\n",
    "# but then when putting it into pandas, it bugs thus have to do reset_index before plotting....\n",
    "#\n",
    "df = d3D.isel(time=0, oceanModelLayer=0).reset_index(\"cell_ids\").to_dataframe()\n",
    "df[df.avg_thetao.notna()].hvplot.scatter(\n",
    "    x=\"longitude\",\n",
    "    y=\"latitude\",\n",
    "    c=\"avg_thetao\",\n",
    "    s=5,\n",
    "    geo=True,\n",
    "    global_extent=True,\n",
    "    frame_height=450,  # , tiles=True\n",
    "    projection=ccrs.Orthographic(0, 30),\n",
    "    # , marker='h', size=20\n",
    "    coastline=True,\n",
    ")"
   ]
  },
  {
   "cell_type": "code",
   "execution_count": null,
   "id": "4da0ac3b-c6e9-4d3c-a9bf-999d898c2b0f",
   "metadata": {
    "editable": true,
    "slideshow": {
     "slide_type": ""
    },
    "tags": []
   },
   "outputs": [],
   "source": [
    "d2D.avg_zos.isel(cell_ids=1000).to_dataframe()[\"avg_zos\"].hvplot()"
   ]
  },
  {
   "cell_type": "code",
   "execution_count": null,
   "id": "33a6ac05-0f80-40b7-9ceb-c014cc615471",
   "metadata": {
    "editable": true,
    "slideshow": {
     "slide_type": ""
    },
    "tags": []
   },
   "outputs": [],
   "source": []
  },
  {
   "cell_type": "code",
   "execution_count": null,
   "id": "d5fc7bfc-b92c-421d-acf4-bd89832f61e1",
   "metadata": {
    "editable": true,
    "slideshow": {
     "slide_type": ""
    },
    "tags": []
   },
   "outputs": [],
   "source": []
  }
 ],
 "metadata": {
  "kernelspec": {
   "display_name": "Python 3 (ipykernel)",
   "language": "python",
   "name": "python3"
  },
  "language_info": {
   "codemirror_mode": {
    "name": "ipython",
    "version": 3
   },
   "file_extension": ".py",
   "mimetype": "text/x-python",
   "name": "python",
   "nbconvert_exporter": "python",
   "pygments_lexer": "ipython3",
   "version": "3.11.8"
  },
  "widgets": {
   "application/vnd.jupyter.widget-state+json": {
    "state": {},
    "version_major": 2,
    "version_minor": 0
   }
  }
 },
 "nbformat": 4,
 "nbformat_minor": 5
}
